{
 "cells": [
  {
   "cell_type": "code",
   "execution_count": null,
   "id": "c263d0ff",
   "metadata": {},
   "outputs": [],
   "source": []
  }
 ],
 "metadata": {
  "language_info": {
   "name": "python"
  }
 },
 "nbformat": 4,
 "nbformat_minor": 5
}
